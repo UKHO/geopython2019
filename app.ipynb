{
 "cells": [
  {
   "cell_type": "markdown",
   "metadata": {},
   "source": [
    "## Libraries"
   ]
  },
  {
   "cell_type": "code",
   "execution_count": null,
   "metadata": {},
   "outputs": [],
   "source": [
    "# client.close()"
   ]
  },
  {
   "cell_type": "code",
   "execution_count": null,
   "metadata": {},
   "outputs": [],
   "source": [
    "import hvplot.pandas\n",
    "import holoviews as hv, geoviews as gv, datashader as ds, param as pm, panel as pn\n",
    "from holoviews.operation.datashader import datashade, dynspread\n",
    "import datashader.spatial as dsp\n",
    "from datashader.utils import lnglat_to_meters\n",
    "from holoviews.streams import BoxEdit\n",
    "from dask.distributed import Client\n",
    "\n",
    "client = Client()\n",
    "\n",
    "hv.extension('bokeh', logo=False, width=100)"
   ]
  },
  {
   "cell_type": "markdown",
   "metadata": {},
   "source": [
    "## Data"
   ]
  },
  {
   "cell_type": "code",
   "execution_count": null,
   "metadata": {},
   "outputs": [],
   "source": [
    "sddf = dsp.read_parquet(\"data/ais_spatial.parquet\")\n",
    "sddf = sddf.persist()"
   ]
  },
  {
   "cell_type": "code",
   "execution_count": null,
   "metadata": {},
   "outputs": [],
   "source": [
    "spoints = hv.Points(sddf, kdims=[\"x\", \"y\"])"
   ]
  },
  {
   "cell_type": "markdown",
   "metadata": {},
   "source": [
    "## Main Dashboard"
   ]
  },
  {
   "cell_type": "code",
   "execution_count": null,
   "metadata": {
    "scrolled": false
   },
   "outputs": [],
   "source": [
    "class AISExplorer(pm.Parameterized):\n",
    "    basemap           = pm.Selector(gv.tile_sources.tile_sources, default=gv.tile_sources.Wikipedia)\n",
    "    basemap_opacity   = pm.Magnitude(0.7)\n",
    "    data_opacity      = pm.Magnitude(1.0)\n",
    "    show_locations    = pm.Boolean(False)\n",
    "\n",
    "    @pm.depends(\"basemap\", \"basemap_opacity\")\n",
    "    def get_basemap(self):\n",
    "        return self.basemap.opts(height=600, width=800,\n",
    "                                    alpha=self.basemap_opacity)\n",
    "    \n",
    "    @pm.depends('show_locations')\n",
    "    def get_labels(self):\n",
    "        return gv.tile_sources.StamenLabels.opts(level='annotation', alpha=1 if self.show_locations else 0)\n",
    "    \n",
    "    def viewable(self, **kwargs):\n",
    "        return (hv.DynamicMap(self.get_basemap) * \n",
    "                dynspread(datashade(spoints, cmap=ds.colors.viridis)).apply.opts(alpha=self.param.data_opacity) *\n",
    "                hv.DynamicMap(self.get_labels) * \n",
    "                box_poly)\n",
    "    \n",
    "ais_explorer = AISExplorer(name=\"\")"
   ]
  },
  {
   "cell_type": "markdown",
   "metadata": {},
   "source": [
    "## Other plots"
   ]
  },
  {
   "cell_type": "code",
   "execution_count": null,
   "metadata": {},
   "outputs": [],
   "source": [
    "def count_ais_pings_by_mmsi(data):\n",
    "    min_x, min_y = lnglat_to_meters(data[\"x0\"], data[\"y0\"])\n",
    "    max_x, max_y = lnglat_to_meters(data[\"x1\"], data[\"y1\"])\n",
    "\n",
    "    x_range = (min_x[0], max_x[0])\n",
    "    y_range = (min_y[0], max_y[0])\n",
    "\n",
    "    sddf_box_rough = sddf.spatial_query(x_range, y_range)\n",
    "    sddf_box_fine = sddf_box_rough.query(f\"x > {x_range[0]} & x < {x_range[1]} & \" +\n",
    "                                         f\"y > {y_range[0]} & y < {y_range[1]}\")\n",
    "    \n",
    "    s_value_counts = sddf_box_fine.mmsi.value_counts().compute()[:10].sort_values()\n",
    "\n",
    "    return s_value_counts.hvplot.bar(title=\"Count of AIS pings by MMSI (top 10), within blue box\",\n",
    "                                     hover_alpha=0.5,\n",
    "                                     ylabel=\"AIS Ping Count\",\n",
    "                                     xlabel=\"MMSI\",\n",
    "                                     invert=True).opts(width=1000)"
   ]
  },
  {
   "cell_type": "code",
   "execution_count": null,
   "metadata": {},
   "outputs": [],
   "source": [
    "sample_box = hv.Bounds((0, 0, 1, 1))\n",
    "box_poly = gv.Polygons([sample_box])\n",
    "box_stream = BoxEdit(source=box_poly, num_objects=1)"
   ]
  },
  {
   "cell_type": "markdown",
   "metadata": {},
   "source": [
    "## Serve"
   ]
  },
  {
   "cell_type": "code",
   "execution_count": null,
   "metadata": {
    "scrolled": false
   },
   "outputs": [],
   "source": [
    "panel = pn.Column(\n",
    "    pn.Row(pn.Column(pn.Pane(\"#AIS Explorer\"),\n",
    "                     pn.Param(ais_explorer.param, expand_button=False)),\n",
    "           ais_explorer.viewable()),\n",
    "    pn.Row(hv.DynamicMap(count_ais_pings_by_mmsi, streams=[box_stream]))\n",
    ")\n",
    "\n",
    "panel.servable()"
   ]
  },
  {
   "cell_type": "code",
   "execution_count": null,
   "metadata": {},
   "outputs": [],
   "source": [
    "# panel.save(\"app.png\")"
   ]
  }
 ],
 "metadata": {
  "kernelspec": {
   "display_name": "Python 3",
   "language": "python",
   "name": "python3"
  },
  "language_info": {
   "codemirror_mode": {
    "name": "ipython",
    "version": 3
   },
   "file_extension": ".py",
   "mimetype": "text/x-python",
   "name": "python",
   "nbconvert_exporter": "python",
   "pygments_lexer": "ipython3",
   "version": "3.6.6"
  },
  "toc": {
   "base_numbering": 1,
   "nav_menu": {},
   "number_sections": true,
   "sideBar": true,
   "skip_h1_title": false,
   "title_cell": "Table of Contents",
   "title_sidebar": "Contents",
   "toc_cell": false,
   "toc_position": {},
   "toc_section_display": true,
   "toc_window_display": false
  }
 },
 "nbformat": 4,
 "nbformat_minor": 2
}
